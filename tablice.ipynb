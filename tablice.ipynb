{
  "nbformat": 4,
  "nbformat_minor": 0,
  "metadata": {
    "accelerator": "GPU",
    "colab": {
      "name": "Untitled6.ipynb",
      "provenance": [],
      "collapsed_sections": []
    },
    "kernelspec": {
      "display_name": "Python 3",
      "name": "python3"
    }
  },
  "cells": [
    {
      "cell_type": "code",
      "metadata": {
        "id": "eHJis4TJlIll"
      },
      "source": [
        "from tensorflow.keras.applications import ResNet50\r\n",
        "from tensorflow.keras.applications.resnet import preprocess_input\r\n",
        "from tensorflow.keras.preprocessing.image import img_to_array\r\n",
        "from tensorflow.keras.applications import imagenet_utils\r\n",
        "from imutils.object_detection import non_max_suppression\r\n",
        "import numpy as np\r\n",
        "import argparse\r\n",
        "import imutils\r\n",
        "import time\r\n",
        "import cv2\r\n",
        "import os\r\n",
        "import matplotlib.pyplot as plt\r\n",
        "import pandas as pd\r\n"
      ],
      "execution_count": null,
      "outputs": []
    },
    {
      "cell_type": "code",
      "metadata": {
        "id": "EzYijS0WlZh8"
      },
      "source": [
        "train_df = pd.read_csv('train_dataset1.csv')\r\n",
        "train_df['filename'] = train_df['filename'].str.replace(r'.xml', '.png')"
      ],
      "execution_count": null,
      "outputs": []
    },
    {
      "cell_type": "code",
      "metadata": {
        "id": "WkPZ9c35nnZG"
      },
      "source": [
        "WIDTH = 224\r\n",
        "HEIGHT = 224"
      ],
      "execution_count": null,
      "outputs": []
    },
    {
      "cell_type": "code",
      "metadata": {
        "id": "2RbAsQGun57e"
      },
      "source": [
        "from keras.layers import Flatten, Dense, Conv2D, MaxPooling2D, Input, Dropout\r\n",
        "from keras.models import Model, Sequential\r\n",
        "from keras.preprocessing.image import ImageDataGenerator\r\n",
        "from keras.optimizers import Adam"
      ],
      "execution_count": null,
      "outputs": []
    },
    {
      "cell_type": "code",
      "metadata": {
        "colab": {
          "base_uri": "https://localhost:8080/"
        },
        "id": "At9GETN0mMr8",
        "outputId": "81a4f8ce-3ddd-44c5-e577-852aab18549f"
      },
      "source": [
        "datagen = ImageDataGenerator(rescale=1./255)\r\n",
        "\r\n",
        "train_generator = datagen.flow_from_dataframe(\r\n",
        "    train_df,\r\n",
        "    directory=None,\r\n",
        "    x_col=\"filename\",\r\n",
        "    y_col=[\"x_max\", \"y_max\", \"x_min\", \"y_min\"],\r\n",
        "    target_size=(WIDTH, HEIGHT),\r\n",
        "    class_mode=\"raw\",\r\n",
        "    batch_size=16)"
      ],
      "execution_count": null,
      "outputs": [
        {
          "output_type": "stream",
          "text": [
            "Found 400 validated image filenames.\n"
          ],
          "name": "stdout"
        }
      ]
    },
    {
      "cell_type": "code",
      "metadata": {
        "colab": {
          "base_uri": "https://localhost:8080/"
        },
        "id": "3mkIwD2IoQZ9",
        "outputId": "a9eed019-2d5d-4b1e-911d-3773acc93870"
      },
      "source": [
        "model = Sequential()\r\n",
        "model.add(ResNet50(weights=\"imagenet\", include_top=False, input_shape = (224,224,3)))\r\n",
        "model.add(Flatten())\r\n",
        "model.add(Dense(128, activation=\"relu\"))\r\n",
        "model.add(Dense(64, activation=\"relu\"))\r\n",
        "model.add(Dense(64, activation=\"relu\"))\r\n",
        "model.add(Dense(4, activation=\"sigmoid\"))"
      ],
      "execution_count": null,
      "outputs": [
        {
          "output_type": "stream",
          "text": [
            "Downloading data from https://storage.googleapis.com/tensorflow/keras-applications/resnet/resnet50_weights_tf_dim_ordering_tf_kernels_notop.h5\n",
            "94773248/94765736 [==============================] - 1s 0us/step\n"
          ],
          "name": "stdout"
        }
      ]
    },
    {
      "cell_type": "code",
      "metadata": {
        "id": "F1eeXwmNqwAT"
      },
      "source": [
        "# We have to make first layers untrainable\r\n",
        "model.layers\r\n",
        "model.layers[0].trainable=False"
      ],
      "execution_count": null,
      "outputs": []
    },
    {
      "cell_type": "code",
      "metadata": {
        "colab": {
          "base_uri": "https://localhost:8080/"
        },
        "id": "YZm9il_5rDh9",
        "outputId": "f0710005-fc40-4776-ae0d-9a12d8157c73"
      },
      "source": [
        "model.layers"
      ],
      "execution_count": null,
      "outputs": [
        {
          "output_type": "execute_result",
          "data": {
            "text/plain": [
              "[<tensorflow.python.keras.engine.functional.Functional at 0x7fabcda7cf28>,\n",
              " <tensorflow.python.keras.layers.core.Flatten at 0x7fabcda67a20>,\n",
              " <tensorflow.python.keras.layers.core.Dense at 0x7fabcdf99438>,\n",
              " <tensorflow.python.keras.layers.core.Dense at 0x7fabd28e56d8>,\n",
              " <tensorflow.python.keras.layers.core.Dense at 0x7fabcd959c18>,\n",
              " <tensorflow.python.keras.layers.core.Dense at 0x7fabcd9e2f60>]"
            ]
          },
          "metadata": {
            "tags": []
          },
          "execution_count": 20
        }
      ]
    },
    {
      "cell_type": "code",
      "metadata": {
        "id": "1niDz_ZZrLVt"
      },
      "source": [
        "# TRAINING PARAMS\r\n",
        "step_size = 400/16\r\n",
        "step_size = 25\r\n",
        "# smaller learning rate than default 0.001\r\n",
        "model.compile(optimizer=Adam(learning_rate=0.0005), loss=\"mse\")"
      ],
      "execution_count": null,
      "outputs": []
    },
    {
      "cell_type": "code",
      "metadata": {
        "colab": {
          "background_save": true,
          "base_uri": "https://localhost:8080/"
        },
        "id": "PQS-sMi3r5uL",
        "outputId": "f0142bce-858d-460a-fbfa-daf3e6bfd573"
      },
      "source": [
        "history = model.fit_generator(train_generator,\r\n",
        "    steps_per_epoch=step_size,\r\n",
        "    epochs=30)"
      ],
      "execution_count": null,
      "outputs": [
        {
          "output_type": "stream",
          "text": [
            "/usr/local/lib/python3.6/dist-packages/tensorflow/python/keras/engine/training.py:1844: UserWarning: `Model.fit_generator` is deprecated and will be removed in a future version. Please use `Model.fit`, which supports generators.\n",
            "  warnings.warn('`Model.fit_generator` is deprecated and '\n"
          ],
          "name": "stderr"
        },
        {
          "output_type": "stream",
          "text": [
            "Epoch 1/30\n",
            "25/25 [==============================] - 73s 3s/step - loss: 0.0903\n",
            "Epoch 2/30\n",
            "25/25 [==============================] - 69s 3s/step - loss: 0.0837\n",
            "Epoch 3/30\n",
            "25/25 [==============================] - 69s 3s/step - loss: 0.0628\n",
            "Epoch 4/30\n",
            "25/25 [==============================] - 68s 3s/step - loss: 0.0611\n",
            "Epoch 5/30\n",
            "25/25 [==============================] - 69s 3s/step - loss: 0.0670\n",
            "Epoch 6/30\n",
            "25/25 [==============================] - 68s 3s/step - loss: 0.0501\n",
            "Epoch 7/30\n",
            "25/25 [==============================] - 68s 3s/step - loss: 0.0174\n",
            "Epoch 8/30\n",
            "25/25 [==============================] - 68s 3s/step - loss: 0.0152\n",
            "Epoch 9/30\n",
            "25/25 [==============================] - 69s 3s/step - loss: 0.0157\n",
            "Epoch 10/30\n",
            "25/25 [==============================] - 69s 3s/step - loss: 0.0133\n",
            "Epoch 11/30\n",
            "25/25 [==============================] - 68s 3s/step - loss: 0.0129\n",
            "Epoch 12/30\n",
            "25/25 [==============================] - 69s 3s/step - loss: 0.0144\n",
            "Epoch 13/30\n",
            "25/25 [==============================] - 68s 3s/step - loss: 0.0107\n",
            "Epoch 14/30\n",
            "25/25 [==============================] - 69s 3s/step - loss: 0.0090\n",
            "Epoch 15/30\n",
            "25/25 [==============================] - 69s 3s/step - loss: 0.0091\n",
            "Epoch 16/30\n",
            "25/25 [==============================] - 69s 3s/step - loss: 0.0097\n",
            "Epoch 17/30\n",
            "25/25 [==============================] - 69s 3s/step - loss: 0.0085\n",
            "Epoch 18/30\n",
            "25/25 [==============================] - 68s 3s/step - loss: 0.0068\n",
            "Epoch 19/30\n",
            "25/25 [==============================] - 69s 3s/step - loss: 0.0081\n",
            "Epoch 20/30\n",
            "25/25 [==============================] - 69s 3s/step - loss: 0.0059\n",
            "Epoch 21/30\n",
            "25/25 [==============================] - 69s 3s/step - loss: 0.0074\n",
            "Epoch 22/30\n",
            "25/25 [==============================] - 69s 3s/step - loss: 0.0061\n",
            "Epoch 23/30\n",
            "25/25 [==============================] - 68s 3s/step - loss: 0.0055\n",
            "Epoch 24/30\n",
            "25/25 [==============================] - 69s 3s/step - loss: 0.0049\n",
            "Epoch 25/30\n",
            "25/25 [==============================] - 68s 3s/step - loss: 0.0076\n",
            "Epoch 26/30\n",
            "25/25 [==============================] - 69s 3s/step - loss: 0.0045\n",
            "Epoch 27/30\n",
            "25/25 [==============================] - 68s 3s/step - loss: 0.0064\n",
            "Epoch 28/30\n",
            "25/25 [==============================] - 68s 3s/step - loss: 0.0062\n",
            "Epoch 29/30\n",
            "25/25 [==============================] - 68s 3s/step - loss: 0.0050\n",
            "Epoch 30/30\n",
            "25/25 [==============================] - 69s 3s/step - loss: 0.0037\n"
          ],
          "name": "stdout"
        }
      ]
    },
    {
      "cell_type": "code",
      "metadata": {
        "colab": {
          "base_uri": "https://localhost:8080/"
        },
        "id": "d5visSGWwL3k",
        "outputId": "eae46be9-88a2-45ec-e6f3-4566069be07c"
      },
      "source": [
        "model.save('.')"
      ],
      "execution_count": null,
      "outputs": [
        {
          "output_type": "stream",
          "text": [
            "INFO:tensorflow:Assets written to: ./assets\n"
          ],
          "name": "stdout"
        }
      ]
    },
    {
      "cell_type": "code",
      "metadata": {
        "id": "FuMOxcZ7wVU1",
        "colab": {
          "base_uri": "https://localhost:8080/",
          "height": 295
        },
        "outputId": "b5f46792-6705-4275-c178-759592a91a07"
      },
      "source": [
        "plt.plot(history.history['loss'])\r\n",
        "plt.title('Model loss')\r\n",
        "plt.ylabel('Loss')\r\n",
        "plt.xlabel('Epoch')\r\n",
        "plt.legend('Train', loc='upper left')\r\n",
        "plt.show()"
      ],
      "execution_count": 21,
      "outputs": [
        {
          "output_type": "display_data",
          "data": {
            "image/png": "[encoded data removed]",
            "text/plain": [
              "<Figure size 432x288 with 1 Axes>"
            ]
          },
          "metadata": {
            "tags": [],
            "needs_background": "light"
          }
        }
      ]
    },
    {
      "cell_type": "code",
      "metadata": {
        "id": "AQsR8sQs2Y3O"
      },
      "source": [
        "test_df = pd.read_csv('test_dataset1.csv')\r\n",
        "test_df['filename'] = test_df['filename'].str.replace(r'.xml', '.png')"
      ],
      "execution_count": 22,
      "outputs": []
    },
    {
      "cell_type": "code",
      "metadata": {
        "id": "Or4i2irX4BOG"
      },
      "source": [
        "test_datagen = ImageDataGenerator(rescale=1./255)"
      ],
      "execution_count": 23,
      "outputs": []
    },
    {
      "cell_type": "code",
      "metadata": {
        "colab": {
          "base_uri": "https://localhost:8080/"
        },
        "id": "RxShFAgd32Tm",
        "outputId": "88adbb43-07ae-4559-f171-8cc163595981"
      },
      "source": [
        "test_generator = test_datagen.flow_from_dataframe(\r\n",
        "    test_df,\r\n",
        "    directory=None,\r\n",
        "    x_col=\"filename\",\r\n",
        "    y_col=[\"x_max\", \"y_max\", \"x_min\", \"y_min\"],\r\n",
        "    target_size=(WIDTH, HEIGHT),\r\n",
        "    class_mode=\"raw\",\r\n",
        "    batch_size=1)"
      ],
      "execution_count": 24,
      "outputs": [
        {
          "output_type": "stream",
          "text": [
            "Found 33 validated image filenames.\n"
          ],
          "name": "stdout"
        }
      ]
    },
    {
      "cell_type": "code",
      "metadata": {
        "colab": {
          "base_uri": "https://localhost:8080/"
        },
        "id": "fv-1aMpY4MYG",
        "outputId": "fcdabf5d-7e1c-4091-90b8-8330a8f8827f"
      },
      "source": [
        "test_history = model.evaluate(test_generator)"
      ],
      "execution_count": 25,
      "outputs": [
        {
          "output_type": "stream",
          "text": [
            "33/33 [==============================] - 2s 17ms/step - loss: 0.0153\n"
          ],
          "name": "stdout"
        }
      ]
    },
    {
      "cell_type": "code",
      "metadata": {
        "colab": {
          "base_uri": "https://localhost:8080/"
        },
        "id": "RVpFPY-g4zxS",
        "outputId": "b257c930-a31f-4c00-d46e-c437abc0d61c"
      },
      "source": [
        "# check sample prediciton\r\n",
        "\r\n",
        "img = cv2.resize(cv2.imread(\"Cars431.png\") / 255.0, dsize=(224, 224))\r\n",
        "y_hat = model.predict(img.reshape(1, WIDTH, HEIGHT, 3)).reshape(-1) * 224\r\n",
        "\r\n",
        "x_max, y_max = y_hat[0], y_hat[1]\r\n",
        "x_min, y_min = y_hat[2], y_hat[3]\r\n",
        "\r\n",
        "img = cv2.cvtColor(img.astype(np.float32), cv2.COLOR_BGR2RGB)\r\n",
        "image = cv2.rectangle(img, (x_max, y_max), (x_min, y_min), (0, 0, 255), 1)\r\n",
        "\r\n",
        "filename_to_save = 'test_431.png'\r\n",
        "cv2.imwrite(filename_to_save, image)"
      ],
      "execution_count": 32,
      "outputs": [
        {
          "output_type": "execute_result",
          "data": {
            "text/plain": [
              "True"
            ]
          },
          "metadata": {
            "tags": []
          },
          "execution_count": 32
        }
      ]
    }
  ]
}